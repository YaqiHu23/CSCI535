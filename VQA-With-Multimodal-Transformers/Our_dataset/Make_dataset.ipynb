{
 "cells": [
  {
   "cell_type": "code",
   "execution_count": 1,
   "metadata": {},
   "outputs": [],
   "source": [
    "import json\n",
    "import os"
   ]
  },
  {
   "cell_type": "code",
   "execution_count": 41,
   "metadata": {},
   "outputs": [
    {
     "data": {
      "text/plain": [
       "dict_keys(['train', 'valid', 'test'])"
      ]
     },
     "execution_count": 41,
     "metadata": {},
     "output_type": "execute_result"
    }
   ],
   "source": [
    "with open('labels.json', 'r') as f:\n",
    "    label = json.load(f)\n",
    "\n",
    "# Now We have a label dict, with keys (train, val, test)\n",
    "label.keys()"
   ]
  },
  {
   "cell_type": "code",
   "execution_count": 38,
   "metadata": {},
   "outputs": [],
   "source": [
    "# for each value, if it range in [-3,-1], change it to sad\n",
    "# if it range in [1,3], change it to happy\n",
    "# if it range in [-1,1], change it to normal\n",
    "\n",
    "for key, value in label['train'].items():\n",
    "    # print(key, value)\n",
    "    if -3 <= value < -1:\n",
    "        label['train'][key] = 'sad'\n",
    "    elif 1 <= value < 3:\n",
    "        label['train'][key] = 'happy'\n",
    "    else:\n",
    "        label['train'][key] = 'normal'\n",
    "\n",
    "for key, value in label['valid'].items():\n",
    "    if -3 <= value < -1:\n",
    "        label['valid'][key] = 'sad'\n",
    "    elif 1 <= value < 3:\n",
    "        label['valid'][key] = 'happy'\n",
    "    else:\n",
    "        label['valid'][key] = 'normal'\n",
    "\n",
    "for key, value in label['test'].items():\n",
    "    if -3 <= value < -1:\n",
    "        label['test'][key] = 'sad'\n",
    "    elif 1 <= value < 3:\n",
    "        label['test'][key] = 'happy'\n",
    "    else:\n",
    "        label['test'][key] = 'normal'\n",
    "\n",
    "# save to another json file\n",
    "with open('labels_three.json', 'w') as f:\n",
    "    json.dump(label, f)"
   ]
  },
  {
   "cell_type": "code",
   "execution_count": 40,
   "metadata": {},
   "outputs": [],
   "source": [
    "with open('labels_three.json', 'r') as f:\n",
    "    label_three = json.load(f)"
   ]
  },
  {
   "cell_type": "code",
   "execution_count": 42,
   "metadata": {},
   "outputs": [],
   "source": [
    "# for train, make a csv file, first column is question, second is answer, third is image name\n",
    "# the image name is the key, and label is value\n",
    "# Question is a fixed question, \"What is the emotion in the image [image name]?\"\n",
    "# here we merge train and val together\n",
    "# make a data_train.csv file first\n",
    "\n",
    "\n",
    "with open('data_train.csv', 'w') as f:\n",
    "    f.write('question,answer,image\\n')\n",
    "    for k, v in label_three['train'].items():\n",
    "        f.write('What is the emotion in the image {}?'.format(k) + ',' + v + ',' + k + '\\n')\n",
    "    for k, v in label_three['valid'].items():\n",
    "        f.write('What is the emotion in the image {}?'.format(k) + ',' + v + ',' + k + '\\n')"
   ]
  },
  {
   "cell_type": "code",
   "execution_count": 46,
   "metadata": {},
   "outputs": [],
   "source": [
    "# also for test, make a csv file\n",
    "with open('data_eval.csv', 'w', newline='') as f:\n",
    "    f.write('question,answer,image\\n')\n",
    "    for k, v in label_three['test'].items():\n",
    "        f.write('What is the emotion in the image {}?'.format(k) + ',' + v + ',' + k + '\\n')"
   ]
  },
  {
   "cell_type": "code",
   "execution_count": 50,
   "metadata": {},
   "outputs": [],
   "source": [
    "# make a all answer pair txt file, that one line is one question, next line is its answer\n",
    "with open('answer_pairs.txt', 'w') as f:\n",
    "    for k, v in label_three['train'].items():\n",
    "        f.write('What is the emotion in the image {}?\\n'.format(k))\n",
    "        f.write(v + '\\n')\n",
    "    for k, v in label_three['valid'].items():\n",
    "        f.write('What is the emotion in the image {}?\\n'.format(k))\n",
    "        f.write(v + '\\n')"
   ]
  },
  {
   "cell_type": "code",
   "execution_count": 51,
   "metadata": {},
   "outputs": [],
   "source": [
    "# make a train image list as a txt, contain train + val information\n",
    "with open('train_images.txt', 'w') as f:\n",
    "    for k in label_three['train'].keys():\n",
    "        f.write(k + '\\n')\n",
    "    for k in label['valid'].keys():\n",
    "        f.write(k + '\\n')"
   ]
  },
  {
   "cell_type": "code",
   "execution_count": 52,
   "metadata": {},
   "outputs": [],
   "source": [
    "# also make a eval image list as a txt\n",
    "with open('test_images.txt', 'w') as f:\n",
    "    for k in label_three['test'].keys():\n",
    "        f.write(k + '\\n')"
   ]
  }
 ],
 "metadata": {
  "kernelspec": {
   "display_name": "566",
   "language": "python",
   "name": "python3"
  },
  "language_info": {
   "codemirror_mode": {
    "name": "ipython",
    "version": 3
   },
   "file_extension": ".py",
   "mimetype": "text/x-python",
   "name": "python",
   "nbconvert_exporter": "python",
   "pygments_lexer": "ipython3",
   "version": "3.10.13"
  }
 },
 "nbformat": 4,
 "nbformat_minor": 2
}
