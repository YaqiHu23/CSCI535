{
 "cells": [
  {
   "cell_type": "code",
   "execution_count": 3,
   "metadata": {},
   "outputs": [],
   "source": [
    "import pandas as pd\n",
    "import torch\n",
    "import soundfile as sf\n",
    "from transformers import HubertModel, Wav2Vec2Processor"
   ]
  },
  {
   "cell_type": "code",
   "execution_count": 4,
   "metadata": {},
   "outputs": [
    {
     "name": "stderr",
     "output_type": "stream",
     "text": [
      "Some weights of HubertModel were not initialized from the model checkpoint at facebook/hubert-large-ls960-ft and are newly initialized: ['hubert.encoder.pos_conv_embed.conv.parametrizations.weight.original0', 'hubert.encoder.pos_conv_embed.conv.parametrizations.weight.original1']\n",
      "You should probably TRAIN this model on a down-stream task to be able to use it for predictions and inference.\n"
     ]
    }
   ],
   "source": [
    "def load_mosi_dataset(pkl_path):\n",
    "    # Load the dataset\n",
    "    return pd.read_pickle(pkl_path)\n",
    "\n",
    "def extract_features_hubert(audio_file, processor, model):\n",
    "    # Load audio\n",
    "    speech, sr = sf.read(audio_file)\n",
    "    # Process audio\n",
    "    input_values = processor(speech, sampling_rate=sr, return_tensors=\"pt\").input_values\n",
    "    # Extract features\n",
    "    with torch.no_grad():\n",
    "        hidden_states = model(input_values).last_hidden_state\n",
    "    return hidden_states\n",
    "\n",
    "processor = Wav2Vec2Processor.from_pretrained(\"facebook/hubert-large-ls960-ft\")\n",
    "model = HubertModel.from_pretrained(\"facebook/hubert-large-ls960-ft\")"
   ]
  },
  {
   "cell_type": "code",
   "execution_count": 17,
   "metadata": {},
   "outputs": [
    {
     "name": "stdout",
     "output_type": "stream",
     "text": [
      "[[[ 0.00000000e+00  0.00000000e+00  0.00000000e+00 ...  0.00000000e+00\n",
      "    0.00000000e+00  0.00000000e+00]\n",
      "  [ 0.00000000e+00  0.00000000e+00  0.00000000e+00 ...  0.00000000e+00\n",
      "    0.00000000e+00  0.00000000e+00]\n",
      "  [ 0.00000000e+00  0.00000000e+00  0.00000000e+00 ...  0.00000000e+00\n",
      "    0.00000000e+00  0.00000000e+00]\n",
      "  ...\n",
      "  [ 2.22000000e+02  6.66666687e-01  9.89001915e-02 ...  8.80259797e-02\n",
      "    4.09209915e-02  1.33800760e-01]\n",
      "  [ 2.13843750e+02  9.79166687e-01  1.60358369e-01 ... -1.16521502e-02\n",
      "    6.68889210e-02  1.73782691e-01]\n",
      "  [ 2.06714279e+02  7.61904776e-01  1.31449461e-01 ...  5.32066263e-02\n",
      "    1.14056304e-01  2.07019895e-01]]\n",
      "\n",
      " [[ 0.00000000e+00  0.00000000e+00  0.00000000e+00 ...  0.00000000e+00\n",
      "    0.00000000e+00  0.00000000e+00]\n",
      "  [ 0.00000000e+00  0.00000000e+00  0.00000000e+00 ...  0.00000000e+00\n",
      "    0.00000000e+00  0.00000000e+00]\n",
      "  [ 0.00000000e+00  0.00000000e+00  0.00000000e+00 ...  0.00000000e+00\n",
      "    0.00000000e+00  0.00000000e+00]\n",
      "  ...\n",
      "  [ 2.71062500e+02  2.50000000e-01  2.14687400e-02 ... -8.93318206e-02\n",
      "   -3.81136909e-02 -5.49064577e-02]\n",
      "  [ 2.66257568e+02  3.93939406e-01  7.16430545e-02 ... -2.00241953e-01\n",
      "   -7.68278390e-02 -1.12619251e-02]\n",
      "  [ 2.50559708e+02  5.37313461e-01  8.56798738e-02 ... -2.01351613e-01\n",
      "   -1.23198427e-01 -5.77579960e-02]]\n",
      "\n",
      " [[ 0.00000000e+00  0.00000000e+00  0.00000000e+00 ...  0.00000000e+00\n",
      "    0.00000000e+00  0.00000000e+00]\n",
      "  [ 0.00000000e+00  0.00000000e+00  0.00000000e+00 ...  0.00000000e+00\n",
      "    0.00000000e+00  0.00000000e+00]\n",
      "  [ 0.00000000e+00  0.00000000e+00  0.00000000e+00 ...  0.00000000e+00\n",
      "    0.00000000e+00  0.00000000e+00]\n",
      "  ...\n",
      "  [ 1.97618637e+02  1.00000000e+00  1.71652466e-01 ... -5.78326099e-02\n",
      "    1.09200425e-01  2.21687332e-01]\n",
      "  [ 2.58535706e+02  3.21428567e-01  8.44431520e-02 ... -1.59119159e-01\n",
      "   -8.73721838e-02  2.10313406e-02]\n",
      "  [ 2.22326920e+02  5.76923072e-01  9.07964259e-02 ... -9.73305330e-02\n",
      "   -7.96986744e-03  7.36565888e-02]]\n",
      "\n",
      " ...\n",
      "\n",
      " [[ 0.00000000e+00  0.00000000e+00  0.00000000e+00 ...  0.00000000e+00\n",
      "    0.00000000e+00  0.00000000e+00]\n",
      "  [ 0.00000000e+00  0.00000000e+00  0.00000000e+00 ...  0.00000000e+00\n",
      "    0.00000000e+00  0.00000000e+00]\n",
      "  [ 0.00000000e+00  0.00000000e+00  0.00000000e+00 ...  0.00000000e+00\n",
      "    0.00000000e+00  0.00000000e+00]\n",
      "  ...\n",
      "  [ 1.25642860e+02  1.00000000e+00  3.47249992e-02 ... -2.91184038e-01\n",
      "   -2.85430789e-01 -1.42149076e-01]\n",
      "  [ 1.43187500e+02  7.50000000e-01  3.85454521e-02 ... -3.61346304e-01\n",
      "   -2.78853953e-01 -9.80120376e-02]\n",
      "  [ 1.28178574e+02  8.80952358e-01  6.62325844e-02 ... -3.32268536e-01\n",
      "   -2.62839645e-01 -1.52493417e-01]]\n",
      "\n",
      " [[ 0.00000000e+00  0.00000000e+00  0.00000000e+00 ...  0.00000000e+00\n",
      "    0.00000000e+00  0.00000000e+00]\n",
      "  [ 0.00000000e+00  0.00000000e+00  0.00000000e+00 ...  0.00000000e+00\n",
      "    0.00000000e+00  0.00000000e+00]\n",
      "  [ 0.00000000e+00  0.00000000e+00  0.00000000e+00 ...  0.00000000e+00\n",
      "    0.00000000e+00  0.00000000e+00]\n",
      "  ...\n",
      "  [ 1.37941177e+02  7.64705896e-01  3.55296284e-02 ... -3.03546041e-01\n",
      "   -2.97459155e-01 -1.46802053e-01]\n",
      "  [ 1.94152771e+02  6.66666687e-01  3.20589282e-02 ... -1.64739981e-01\n",
      "   -1.20842896e-01 -3.53007056e-02]\n",
      "  [ 1.54851059e+02  9.14893627e-01  5.29282056e-02 ... -1.23948723e-01\n",
      "   -7.93576613e-02 -3.91181409e-02]]\n",
      "\n",
      " [[ 0.00000000e+00  0.00000000e+00  0.00000000e+00 ...  0.00000000e+00\n",
      "    0.00000000e+00  0.00000000e+00]\n",
      "  [ 0.00000000e+00  0.00000000e+00  0.00000000e+00 ...  0.00000000e+00\n",
      "    0.00000000e+00  0.00000000e+00]\n",
      "  [ 0.00000000e+00  0.00000000e+00  0.00000000e+00 ...  0.00000000e+00\n",
      "    0.00000000e+00  0.00000000e+00]\n",
      "  ...\n",
      "  [ 1.80033340e+02  1.00000000e+00  4.87158373e-02 ... -9.79442671e-02\n",
      "   -1.59966853e-02  1.21314012e-01]\n",
      "  [ 1.87277771e+02  7.22222209e-01  6.82935268e-02 ... -1.46053478e-01\n",
      "   -4.59592324e-03  1.06068216e-01]\n",
      "  [ 1.57500000e+02  9.28571403e-01  2.59566028e-02 ... -1.48040026e-01\n",
      "   -8.22272748e-02 -9.68248397e-03]]]\n"
     ]
    }
   ],
   "source": [
    "mosi_dataset = load_mosi_dataset(\"mosi_raw.pkl\")\n",
    "\n",
    "print(mosi_dataset['train']['audio'])"
   ]
  },
  {
   "cell_type": "code",
   "execution_count": 9,
   "metadata": {},
   "outputs": [
    {
     "name": "stdout",
     "output_type": "stream",
     "text": [
      "Feature extraction complete.\n"
     ]
    }
   ],
   "source": [
    "def process_subset(subset, processor, model):\n",
    "    # This assumes each subset is a list or similar iterable of sample details,\n",
    "    # including an audio file path. Adjust as necessary for your data structure.\n",
    "    for sample in subset:\n",
    "        audio_path = sample['audio_filepath']  # Adjust based on actual key for audio path\n",
    "        features = extract_features_hubert(audio_path, processor, model)\n",
    "        # Process the extracted features as needed\n",
    "        print(f\"Processed sample {sample['id']}\")  # Assuming there's an 'id' or similar identifier\n",
    "\n",
    "# Iterate through each data subset\n",
    "for subset_name in ['train', 'valid', 'test']:\n",
    "    print(f\"Processing {subset_name} subset\")\n",
    "    subset_data = mosi_dataset[subset_name]\n",
    "    process_subset(subset_data, processor, model)"
   ]
  }
 ],
 "metadata": {
  "kernelspec": {
   "display_name": "566",
   "language": "python",
   "name": "python3"
  },
  "language_info": {
   "codemirror_mode": {
    "name": "ipython",
    "version": 3
   },
   "file_extension": ".py",
   "mimetype": "text/x-python",
   "name": "python",
   "nbconvert_exporter": "python",
   "pygments_lexer": "ipython3",
   "version": "3.10.13"
  }
 },
 "nbformat": 4,
 "nbformat_minor": 2
}
